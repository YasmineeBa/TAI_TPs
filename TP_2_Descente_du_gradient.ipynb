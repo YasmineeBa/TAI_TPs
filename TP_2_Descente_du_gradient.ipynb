{
  "cells": [
    {
      "cell_type": "markdown",
      "metadata": {
        "id": "view-in-github",
        "colab_type": "text"
      },
      "source": [
        "<a href=\"https://colab.research.google.com/github/YasmineeBa/TAI_TPs/blob/main/TP_2_Descente_du_gradient.ipynb\" target=\"_parent\"><img src=\"https://colab.research.google.com/assets/colab-badge.svg\" alt=\"Open In Colab\"/></a>"
      ]
    },
    {
      "cell_type": "markdown",
      "metadata": {
        "id": "bT4srwvYduAk"
      },
      "source": [
        "# TP 2 Descente du Gradient\n",
        "Dans ce TP, nous aimerions prédire le chiffre d'affaire d'une entreprise dans plusieurs ville en nous basant sur les habitant de cette ville.\n",
        "\n",
        "Pour ce faire, nous étudierons un ensemble de données avec le chiffre d'affaire (y) et les caractéristiques des habitants (X).\n",
        "\n",
        "La prédiction se fera avec l'agorithme de descente du gradient."
      ]
    },
    {
      "cell_type": "markdown",
      "metadata": {
        "id": "19NDy7rFduAw"
      },
      "source": [
        "# Importation des librairies necessaires au travail"
      ]
    },
    {
      "cell_type": "code",
      "execution_count": null,
      "metadata": {
        "id": "PsxbsntfduAx"
      },
      "outputs": [],
      "source": [
        "import numpy as np\n",
        "import matplotlib.pyplot as plt"
      ]
    },
    {
      "cell_type": "markdown",
      "metadata": {
        "id": "qzg2aOT-duAz"
      },
      "source": [
        "# Lecture des fichiers de données\n",
        "Pour ce TP, nous allons lire les données à partir d'un fichier csv."
      ]
    },
    {
      "cell_type": "code",
      "execution_count": null,
      "metadata": {
        "colab": {
          "base_uri": "https://localhost:8080/"
        },
        "id": "f3V0g-U6duA0",
        "outputId": "b565a9e2-2c94-4e7b-b392-9f4e1ec8cbe0"
      },
      "outputs": [
        {
          "output_type": "execute_result",
          "data": {
            "text/plain": [
              "(97, 2)"
            ]
          },
          "metadata": {},
          "execution_count": 215
        }
      ],
      "source": [
        "# données\n",
        "data = np.genfromtxt('data.csv', delimiter=',')\n",
        "data.shape"
      ]
    },
    {
      "cell_type": "markdown",
      "metadata": {
        "id": "agZWYA90duA3"
      },
      "source": [
        "Dans ces données (data), la première colonne represente la première caractéristique (la population d'une ville x1000), la deuxieme colonne represente le chiffre d'affaires (x1000).\n",
        "\n",
        "Chaque ligne represente un exemple de notre ensemble de données.\n",
        "\n",
        "Mettons ces données dans leus vecteurs correspondants."
      ]
    },
    {
      "cell_type": "code",
      "execution_count": null,
      "metadata": {
        "id": "jjIm5e_VduA4"
      },
      "outputs": [],
      "source": [
        "# rajoutons l'ordonnée à l'origine theta 0\n",
        "intercept=np.ones((data.shape[0],1))\n",
        "X=np.column_stack((intercept,data[:,0]))\n",
        "y = data[:, 1];"
      ]
    },
    {
      "cell_type": "code",
      "execution_count": null,
      "metadata": {
        "colab": {
          "base_uri": "https://localhost:8080/",
          "height": 297
        },
        "id": "yDEf0HJKduA6",
        "outputId": "40e4ae00-3e8c-48f2-bd4b-336b3f87a11d"
      },
      "outputs": [
        {
          "output_type": "execute_result",
          "data": {
            "text/plain": [
              "Text(0, 0.5, \"Chiffre d'affaires x1000\")"
            ]
          },
          "metadata": {},
          "execution_count": 218
        },
        {
          "output_type": "display_data",
          "data": {
            "image/png": "[encoded data removed]",
            "text/plain": [
              "<Figure size 432x288 with 1 Axes>"
            ]
          },
          "metadata": {
            "needs_background": "light"
          }
        }
      ],
      "source": [
        "# traçons ces données pour visualisation\n",
        "plt.scatter(X[:,1],y,marker ='x')\n",
        "plt.xlabel('Population x 1000')\n",
        "plt.ylabel('Chiffre d\\'affaires x1000')"
      ]
    },
    {
      "cell_type": "markdown",
      "metadata": {
        "id": "o_GTEQAwduA8"
      },
      "source": [
        "# Descente du Gradient : Préparation des fonctions"
      ]
    },
    {
      "cell_type": "markdown",
      "metadata": {
        "id": "KYsK_jA3duA_"
      },
      "source": [
        "1- Calcul du coût\n",
        "\n",
        "Cette fonction servira à calculer le cout $J(\\theta_0,\\theta_1)$\n",
        "\n",
        "Elle prendra l'ensemble de données d'apprentissage en entrée ainsi que les paramètres définis initialement"
      ]
    },
    {
      "cell_type": "code",
      "execution_count": null,
      "metadata": {
        "id": "6SXsN0Q1duBA"
      },
      "outputs": [],
      "source": [
        "def computeCost(X, y, theta):\n",
        "  y_pred = np.transpose(np.matmul(X,theta))\n",
        "  m = len(y)\n",
        "  J = (1 / 2*m) * (np.sum(y_pred - y)**2)\n",
        "  return J"
      ]
    },
    {
      "cell_type": "markdown",
      "metadata": {
        "id": "kgyvy45xduBB"
      },
      "source": [
        "2- Fonction de la descente du gradient\n",
        "\n",
        "Cette fonction mettra à jour les paramètres $\\theta_0,\\theta_1$ jusqu'à convergence: atteinte du nombre d'itérations max, ou dérivée assez petite."
      ]
    },
    {
      "cell_type": "code",
      "execution_count": null,
      "metadata": {
        "id": "CidFgdZkduBB"
      },
      "outputs": [],
      "source": [
        "def gradientDescent(X, y, theta, alpha, iterations):\n",
        "  m = len(y)\n",
        "  t = np.copy(theta)\n",
        "\n",
        "  for i in range(iterations):\n",
        "    y_pred = np.transpose(np.matmul(X,t))\n",
        "    t[0] = t[0] - (alpha * ((1/m) * np.sum(y_pred - y)))\n",
        "    t[1] = t[1] - (alpha * ((1/m) * np.sum((y_pred - y) * X[:,1])))\n",
        "  return t"
      ]
    },
    {
      "cell_type": "markdown",
      "metadata": {
        "id": "tdxcsW7sduBC"
      },
      "source": [
        "# Descente du Gradient : Appel des fonctions"
      ]
    },
    {
      "cell_type": "markdown",
      "metadata": {
        "id": "KNdWmWatduBD"
      },
      "source": [
        "Initialisation de $\\theta_0$ et $\\theta_1$"
      ]
    },
    {
      "cell_type": "code",
      "source": [
        "theta = np.zeros((2, 1))"
      ],
      "metadata": {
        "id": "WlfHt-RfiI3W"
      },
      "execution_count": null,
      "outputs": []
    },
    {
      "cell_type": "markdown",
      "metadata": {
        "id": "PuN4ydz8duBE"
      },
      "source": [
        "Calculer le cout initial"
      ]
    },
    {
      "cell_type": "code",
      "execution_count": null,
      "metadata": {
        "colab": {
          "base_uri": "https://localhost:8080/"
        },
        "id": "YSbO3V6bduBE",
        "outputId": "265a55fe-c08e-4999-ef45-9ec2dadf28e2"
      },
      "outputs": [
        {
          "output_type": "stream",
          "name": "stdout",
          "text": [
            "initialCost : 15559020.291617688\n"
          ]
        }
      ],
      "source": [
        "initialCost=computeCost(X, y, theta)\n",
        "print(\"initialCost : {0}\".format(initialCost))"
      ]
    },
    {
      "cell_type": "markdown",
      "metadata": {
        "id": "t_KB_nPHduBF"
      },
      "source": [
        "Appel des la fonction de calcul du gradient"
      ]
    },
    {
      "cell_type": "code",
      "execution_count": null,
      "metadata": {
        "colab": {
          "base_uri": "https://localhost:8080/"
        },
        "id": "7GJtFrsfduBF",
        "outputId": "0b3ce661-ccfd-4c0c-ead8-783b056867f2"
      },
      "outputs": [
        {
          "output_type": "stream",
          "name": "stdout",
          "text": [
            "Theta0 : [-3.89578088]\n",
            "Theta1 : [1.19303364]\n",
            "cost initiale : 15559020.291617688 ,  cost finale : 2.2489849495884083e-22\n"
          ]
        }
      ],
      "source": [
        "# paramètres\n",
        "iterations = 3500\n",
        "alpha = 0.01\n",
        "# Appel\n",
        "theta = gradientDescent(X, y, theta, alpha, iterations)\n",
        "print(\"Theta0 : {0}\".format(theta[0]))\n",
        "print(\"Theta1 : {0}\".format(theta[1]))\n",
        "print(\"cost initiale : {0} ,  cost finale : {1}\".format(initialCost,computeCost(X, y, theta)))"
      ]
    },
    {
      "cell_type": "markdown",
      "metadata": {
        "id": "iQGhPd7vduBG"
      },
      "source": [
        "Traçage de la fonction du coût"
      ]
    },
    {
      "cell_type": "markdown",
      "metadata": {
        "id": "St7SHwFAduBG"
      },
      "source": [
        "Notons que $\\theta^T  x$ est équivalent à $X  \\theta $ où $X= \\begin{pmatrix}\n",
        "..(x^{(1)})^T..\\\\\n",
        "..(x^{(2)})^T..\\\\\n",
        ".\\\\\n",
        ".\\\\\n",
        ".\\\\\n",
        "..(x^{(m)})^T..\n",
        "\\end{pmatrix} $"
      ]
    },
    {
      "cell_type": "code",
      "execution_count": null,
      "metadata": {
        "colab": {
          "base_uri": "https://localhost:8080/",
          "height": 297
        },
        "id": "cbClelY2duBH",
        "outputId": "42bc8da9-d362-48e1-eab5-378ffcc2b9c2"
      },
      "outputs": [
        {
          "output_type": "execute_result",
          "data": {
            "text/plain": [
              "[<matplotlib.lines.Line2D at 0x7fed73948690>]"
            ]
          },
          "metadata": {},
          "execution_count": 231
        },
        {
          "output_type": "display_data",
          "data": {
            "image/png": "[encoded data removed]",
            "text/plain": [
              "<Figure size 432x288 with 1 Axes>"
            ]
          },
          "metadata": {
            "needs_background": "light"
          }
        }
      ],
      "source": [
        "y_pred=np.matmul(X,theta)\n",
        "plt.scatter(X[:,1],y,marker ='x')\n",
        "plt.xlabel('Population x 1000')\n",
        "plt.ylabel('Chiffre d\\'affaires x1000')\n",
        "plt.plot(X[:,1],y_pred,color='r')\n",
        "# la ligne du graphe represente le traçage de la fonction hypothèse\n",
        "# la ligne devrait se rapprocher des données après entrainement avec la descente du gredient"
      ]
    },
    {
      "cell_type": "markdown",
      "metadata": {
        "id": "p-k2OmzZduBI"
      },
      "source": [
        "Traçage du coût en fonction de theta0 et theta1"
      ]
    },
    {
      "cell_type": "code",
      "source": [
        "import numpy as np\n",
        "import matplotlib.pyplot as plt\n",
        "import mpl_toolkits.mplot3d\n",
        "\n",
        "# defining all 3 axes\n",
        "nbIter = 1500\n",
        "x_ = np.zeros((nbIter+1))\n",
        "y_ = np.zeros((nbIter+1))\n",
        "\n",
        "theta = np.zeros((2, 1))\n",
        "\n",
        "for i in range(0,nbIter+1):\n",
        "  x_[i] = (theta[0])\n",
        "  y_[i] = (theta[1])\n",
        "  theta = gradientDescent(X, y, theta, alpha, 1)\n",
        "\n",
        "x_ = x_[1:len(x_)]\n",
        "y_ = y_[1:len(y_)]\n",
        "\n",
        "x_ = np.array([x_[i] for i in range(0,1500,5)])\n",
        "y_ = np.array([y_[i] for i in range(0,1500,5)])\n",
        "\n",
        "x_grid = np.zeros((x_.shape[0],x_.shape[0]))\n",
        "y_grid = np.zeros((y_.shape[0],y_.shape[0]))\n",
        "z_grid = np.zeros((y_.shape[0],y_.shape[0]))\n",
        "\n",
        "for i in range(len(x_grid)):\n",
        "  for j in range(len(x_grid)):\n",
        "    x_grid[i][j] = x_[i]\n",
        "    y_grid[j][i] = y_[i]\n",
        "\n",
        "\n",
        "for i in range(len(x_grid)):\n",
        "  for j in range(len(x_grid)):\n",
        "    z_grid[i][j] = computeCost(X, y, [ x_grid[i][j] ,  y_grid[i][j] ])\n",
        "\n",
        "output = plt.subplot(111, projection = '3d')   # 3d projection\n",
        "output.view_init(30, 60)\n",
        "output.plot_surface(x_grid, y_grid, z_grid, rstride = 2, cstride = 2, cmap = plt.cm.Reds_r)\n",
        "output.set_xlabel('x')                         # axis label\n",
        "output.set_xlabel('y')\n",
        "output.set_xlabel('z')\n",
        "plt.show()"
      ],
      "metadata": {
        "colab": {
          "base_uri": "https://localhost:8080/",
          "height": 248
        },
        "id": "7GODPPlw2H45",
        "outputId": "f03fc8d8-8347-46e2-df43-8238cbb60a16"
      },
      "execution_count": null,
      "outputs": [
        {
          "output_type": "display_data",
          "data": {
            "image/png": "[encoded data removed]",
            "text/plain": [
              "<Figure size 432x288 with 1 Axes>"
            ]
          },
          "metadata": {
            "needs_background": "light"
          }
        }
      ]
    },
    {
      "cell_type": "markdown",
      "metadata": {
        "id": "lFM0M2h2duBK"
      },
      "source": [
        "Prédire des valeurs de x"
      ]
    },
    {
      "cell_type": "code",
      "execution_count": null,
      "metadata": {
        "colab": {
          "base_uri": "https://localhost:8080/"
        },
        "id": "KATw5hTuduBK",
        "outputId": "ef7507db-741f-4c9d-da99-be6f5241f44d"
      },
      "outputs": [
        {
          "output_type": "execute_result",
          "data": {
            "text/plain": [
              "array([0.45166649])"
            ]
          },
          "metadata": {},
          "execution_count": 234
        }
      ],
      "source": [
        "# Predire pour une opulation = 35,000 et 70,000\n",
        "predict1 = np.matmul([1, 3.5],theta);\n",
        "predict1"
      ]
    },
    {
      "cell_type": "code",
      "execution_count": null,
      "metadata": {
        "colab": {
          "base_uri": "https://localhost:8080/"
        },
        "id": "LDBl655uduBL",
        "outputId": "f44200d8-b44c-4813-c55a-5b7f0412728a"
      },
      "outputs": [
        {
          "output_type": "execute_result",
          "data": {
            "text/plain": [
              "array([4.53410299])"
            ]
          },
          "metadata": {},
          "execution_count": 235
        }
      ],
      "source": [
        "predict2 = np.matmul([1, 7],theta);\n",
        "predict2"
      ]
    },
    {
      "cell_type": "markdown",
      "metadata": {
        "id": "JBr9rS3rduBM"
      },
      "source": [
        "# Régression linéaire à plusieurs variables"
      ]
    },
    {
      "cell_type": "markdown",
      "metadata": {
        "id": "lAIUELF5duBM"
      },
      "source": [
        "Proposer, l'aide des fonctions définies precedemment, une regression linéaire lorsque le nombre de descripeurs est supérieur à 1, en utilisant la base d'apprentissage suivante"
      ]
    },
    {
      "cell_type": "code",
      "execution_count": null,
      "metadata": {
        "colab": {
          "base_uri": "https://localhost:8080/"
        },
        "id": "DdQyV6TJduBM",
        "outputId": "c789a8e4-14f4-4aee-b4ff-e9324baa73c4"
      },
      "outputs": [
        {
          "output_type": "execute_result",
          "data": {
            "text/plain": [
              "(47, 3)"
            ]
          },
          "metadata": {},
          "execution_count": 236
        }
      ],
      "source": [
        "# données\n",
        "dataMulti = np.genfromtxt('dataMulti.csv', delimiter=',')\n",
        "dataMulti.shape"
      ]
    },
    {
      "cell_type": "markdown",
      "metadata": {
        "id": "7G7bBJlWduBN"
      },
      "source": [
        "Pour cette ensemble de données, nous voudrions prédire le prix d'une maison (3ème colonne de dataMulti) à partir de :\n",
        "- sa supérficie (1ère colonne)\n",
        "- son nombre de chambres (2ème colonne)"
      ]
    },
    {
      "cell_type": "code",
      "execution_count": null,
      "metadata": {
        "colab": {
          "base_uri": "https://localhost:8080/"
        },
        "id": "A1LoD3fwduBO",
        "outputId": "078a8f7f-7e31-436e-b087-4238dccf982b"
      },
      "outputs": [
        {
          "output_type": "stream",
          "name": "stderr",
          "text": [
            "/usr/local/lib/python3.7/dist-packages/ipykernel_launcher.py:4: DeprecationWarning: `np.int` is a deprecated alias for the builtin `int`. To silence this warning, use `int` by itself. Doing this will not modify any behavior and is safe. When replacing `np.int`, you may wish to use e.g. `np.int64` or `np.int32` to specify the precision. If you wish to review your current use, check the release note link for additional information.\n",
            "Deprecated in NumPy 1.20; for more details and guidance: https://numpy.org/devdocs/release/1.20.0-notes.html#deprecations\n",
            "  after removing the cwd from sys.path.\n"
          ]
        }
      ],
      "source": [
        "# d'abord créer X et y\n",
        "intercept=np.ones((dataMulti.shape[0],1))\n",
        "X=np.column_stack((intercept,dataMulti[:,0:2]))\n",
        "X = np.array(X,dtype = np.int)\n",
        "y = dataMulti[:, 2]\n",
        "theta = np.zeros((3, 1))"
      ]
    },
    {
      "cell_type": "code",
      "source": [
        "initialCost=computeCost(X, y, theta)\n",
        "print(\"initialCost : {0}\".format(initialCost))"
      ],
      "metadata": {
        "colab": {
          "base_uri": "https://localhost:8080/"
        },
        "id": "hsGf48y05YcS",
        "outputId": "316f0c02-9424-4588-b2cd-d7d3e8c159e5"
      },
      "execution_count": null,
      "outputs": [
        {
          "output_type": "stream",
          "name": "stdout",
          "text": [
            "initialCost : 6015548808460000.0\n"
          ]
        }
      ]
    },
    {
      "cell_type": "code",
      "execution_count": null,
      "metadata": {
        "id": "8Rqkk1VSduBO"
      },
      "outputs": [],
      "source": [
        "# pas besoin de redéfinir la fonction de coût"
      ]
    },
    {
      "cell_type": "markdown",
      "metadata": {
        "id": "ghSOnZyjduBO"
      },
      "source": [
        "Mise à l'échelle des données"
      ]
    },
    {
      "cell_type": "code",
      "execution_count": null,
      "metadata": {
        "colab": {
          "base_uri": "https://localhost:8080/"
        },
        "id": "0N-Vv1vdduBP",
        "outputId": "357cde76-f0d3-4fb0-e48c-915776e00dff"
      },
      "outputs": [
        {
          "output_type": "stream",
          "name": "stdout",
          "text": [
            "mise a l'echelle de X\n",
            "[[1.         0.34528406 0.5       ]\n",
            " [1.         0.20628792 0.5       ]\n",
            " [1.         0.42691671 0.5       ]\n",
            " [1.         0.1555433  0.25      ]\n",
            " [1.         0.59238831 0.75      ]\n",
            " [1.         0.31246553 0.75      ]\n",
            " [1.         0.18808605 0.5       ]\n",
            " [1.         0.15857694 0.5       ]\n",
            " [1.         0.145615   0.5       ]\n",
            " [1.         0.17705461 0.5       ]\n",
            " [1.         0.30005516 0.75      ]\n",
            " [1.         0.31660232 0.5       ]\n",
            " [1.         0.28626586 0.5       ]\n",
            " [1.         1.         1.        ]\n",
            " [1.         0.11472697 0.5       ]\n",
            " [1.         0.39933811 0.75      ]\n",
            " [1.         0.12906784 0.25      ]\n",
            " [1.         0.10590182 0.5       ]\n",
            " [1.         0.48455598 0.75      ]\n",
            " [1.         0.60093767 0.75      ]\n",
            " [1.         0.25234418 0.5       ]\n",
            " [1.         0.28571429 0.25      ]\n",
            " [1.         0.20739106 0.5       ]\n",
            " [1.         0.30612245 0.75      ]\n",
            " [1.         0.83783784 0.5       ]\n",
            " [1.         0.06839493 0.5       ]\n",
            " [1.         0.16712631 0.5       ]\n",
            " [1.         0.46166575 0.5       ]\n",
            " [1.         0.37175951 0.5       ]\n",
            " [1.         0.49227799 0.5       ]\n",
            " [1.         0.27220077 0.25      ]\n",
            " [1.         0.04081633 0.        ]\n",
            " [1.         0.32763376 0.75      ]\n",
            " [1.         0.63017099 0.5       ]\n",
            " [1.         0.26447876 0.75      ]\n",
            " [1.         0.1613348  0.5       ]\n",
            " [1.         0.10672918 0.5       ]\n",
            " [1.         0.35300607 0.75      ]\n",
            " [1.         0.92746828 0.75      ]\n",
            " [1.         0.36127965 0.75      ]\n",
            " [1.         0.22393822 0.25      ]\n",
            " [1.         0.38223938 0.5       ]\n",
            " [1.         0.47297297 0.75      ]\n",
            " [1.         0.09597352 0.5       ]\n",
            " [1.         0.         0.25      ]\n",
            " [1.         0.27578599 0.75      ]\n",
            " [1.         0.09680088 0.5       ]]\n",
            "mise a l'echelle de Y\n",
            "[0.43396226 0.30188679 0.37566038 0.11716981 0.69811321 0.24528302\n",
            " 0.27358491 0.05490566 0.07943396 0.13698113 0.13226415 0.33415094\n",
            " 0.30207547 1.         0.16981132 0.52830189 0.24528302 0.05660377\n",
            " 0.62283019 0.80962264 0.15660377 0.16056604 0.13773585 0.16981132\n",
            " 0.76226415 0.1509434  0.55584906 0.56433962 0.57566038 0.24528302\n",
            " 0.33962264 0.         0.27358491 0.77358491 0.21886792 0.1509434\n",
            " 0.11320755 0.33037736 0.71528302 0.2209434  0.37471698 0.30188679\n",
            " 0.27188679 0.24358491 0.01886792 0.24528302 0.13132075]\n"
          ]
        }
      ],
      "source": [
        "X_scaled = np.ones(X.shape)\n",
        "max1 = X[:,1].max()\n",
        "max2 = X[:,2].max()\n",
        "min1 = X[:,1].min()\n",
        "min2 = X[:,2].min()\n",
        "\n",
        "for i in range(len(X)):\n",
        "  X_scaled[i][1] = (X[i][1]-min1)/(max1-min1)\n",
        "  X_scaled[i][2] = (X[i][2]-min2)/(max2-min2)\n",
        "\n",
        "print(\"mise a l'echelle de X\")\n",
        "print(X_scaled)\n",
        "\n",
        "y_scaled = np.zeros(y.shape)\n",
        "max3 = y.max()\n",
        "min3 = y.min()\n",
        "\n",
        "for i in range(len(y)):\n",
        "  y_scaled[i] = (y[i]-min3)/(max3-min3)\n",
        "\n",
        "print(\"mise a l'echelle de Y\")\n",
        "print(y_scaled)"
      ]
    },
    {
      "cell_type": "markdown",
      "metadata": {
        "id": "vp8__yHHduBP"
      },
      "source": [
        "Normalisation des données en moyenne = 0"
      ]
    },
    {
      "cell_type": "code",
      "execution_count": null,
      "metadata": {
        "colab": {
          "base_uri": "https://localhost:8080/"
        },
        "id": "Fc2X2YOfduBQ",
        "outputId": "d19118c8-181c-468e-c8ed-e59f069fe2ed"
      },
      "outputs": [
        {
          "output_type": "stream",
          "name": "stdout",
          "text": [
            "normalisatio de X\n",
            "[[ 1.15559714 -0.83427726 -0.36404999]\n",
            " [ 1.15559714 -1.25672742 -0.36404999]\n",
            " [ 1.15559714 -0.5861716  -0.36404999]\n",
            " [ 1.15559714 -1.41095526 -1.12387355]\n",
            " [ 1.15559714 -0.08325474  0.39577358]\n",
            " [ 1.15559714 -0.93402243  0.39577358]\n",
            " [ 1.15559714 -1.31204828 -0.36404999]\n",
            " [ 1.15559714 -1.40173512 -0.36404999]\n",
            " [ 1.15559714 -1.44113027 -0.36404999]\n",
            " [ 1.15559714 -1.34557607 -0.36404999]\n",
            " [ 1.15559714 -0.9717412   0.39577358]\n",
            " [ 1.15559714 -0.92144951 -0.36404999]\n",
            " [ 1.15559714 -1.01365094 -0.36404999]\n",
            " [ 1.15559714  1.15559714  1.15559714]\n",
            " [ 1.15559714 -1.53500809 -0.36404999]\n",
            " [ 1.15559714 -0.66999108  0.39577358]\n",
            " [ 1.15559714 -1.49142196 -1.12387355]\n",
            " [ 1.15559714 -1.56183032 -0.36404999]\n",
            " [ 1.15559714 -0.41098889  0.39577358]\n",
            " [ 1.15559714 -0.0572707   0.39577358]\n",
            " [ 1.15559714 -1.1167489  -0.36404999]\n",
            " [ 1.15559714 -1.01532733 -1.12387355]\n",
            " [ 1.15559714 -1.25337464 -0.36404999]\n",
            " [ 1.15559714 -0.95330091  0.39577358]\n",
            " [ 1.15559714  0.66273861 -0.36404999]\n",
            " [ 1.15559714 -1.67582481 -0.36404999]\n",
            " [ 1.15559714 -1.37575108 -0.36404999]\n",
            " [ 1.15559714 -0.48055906 -0.36404999]\n",
            " [ 1.15559714 -0.75381056 -0.36404999]\n",
            " [ 1.15559714 -0.38751944 -0.36404999]\n",
            " [ 1.15559714 -1.05639887 -1.12387355]\n",
            " [ 1.15559714 -1.75964429 -1.88369712]\n",
            " [ 1.15559714 -0.88792172  0.39577358]\n",
            " [ 1.15559714  0.03157795 -0.36404999]\n",
            " [ 1.15559714 -1.07986833  0.39577358]\n",
            " [ 1.15559714 -1.39335317 -0.36404999]\n",
            " [ 1.15559714 -1.55931574 -0.36404999]\n",
            " [ 1.15559714 -0.8108078   0.39577358]\n",
            " [ 1.15559714  0.93515192  0.39577358]\n",
            " [ 1.15559714 -0.78566196  0.39577358]\n",
            " [ 1.15559714 -1.20308296 -1.12387355]\n",
            " [ 1.15559714 -0.72195916 -0.36404999]\n",
            " [ 1.15559714 -0.44619307  0.39577358]\n",
            " [ 1.15559714 -1.59200533 -0.36404999]\n",
            " [ 1.15559714 -1.88369712 -1.12387355]\n",
            " [ 1.15559714 -1.04550234  0.39577358]\n",
            " [ 1.15559714 -1.58949075 -0.36404999]]\n",
            "\n",
            "normalisatio de Y\n",
            "[ 0.48088932 -0.08498423  0.23109657 -0.87639881  1.61263643 -0.32750147\n",
            " -0.20624285 -1.14316777 -1.03807697 -0.79151778 -0.81172755  0.05325059\n",
            " -0.08417584  2.90606169 -0.65085778  0.88508472 -0.32750147 -1.13589226\n",
            "  1.2900885   2.09039538 -0.70744514 -0.69046893 -0.78828422 -0.65085778\n",
            "  1.88748929 -0.73169686  1.00310977  1.03948736  1.0879908  -0.32750147\n",
            "  0.07669393 -1.37840949 -0.20624285  1.93599274 -0.44067618 -0.73169686\n",
            " -0.89337502  0.03708278  1.68619999 -0.43178388  0.22705461 -0.08498423\n",
            " -0.21351837 -0.33477699 -1.29757042 -0.32750147 -0.81576951]\n"
          ]
        }
      ],
      "source": [
        "mean_ = np.mean(X_scaled)\n",
        "std_ = np.std(X_scaled)\n",
        "X_scaled_normalized = [(i-mean_)/std_ for i in X_scaled]\n",
        "X_scaled_normalized = np.array(X_scaled_normalized)\n",
        "\n",
        "mean_ = np.mean(y_scaled)\n",
        "std_ = np.std(y_scaled)\n",
        "y_scaled_normalized = [(i-mean_)/std_ for i in y_scaled]\n",
        "y_scaled_normalized = np.array(y_scaled_normalized)\n",
        "\n",
        "print(\"normalisatio de X\")\n",
        "print(X_scaled_normalized)\n",
        "print()\n",
        "print(\"normalisatio de Y\")\n",
        "print(y_scaled_normalized)"
      ]
    },
    {
      "cell_type": "markdown",
      "metadata": {
        "id": "ackiMt4eduBQ"
      },
      "source": [
        "Appliquer la descente du gradient à plusieurs variables"
      ]
    },
    {
      "cell_type": "code",
      "execution_count": null,
      "metadata": {
        "colab": {
          "base_uri": "https://localhost:8080/"
        },
        "id": "EebbDGufduBQ",
        "outputId": "e6e9ce2c-224e-407d-b7be-e540d4c28a44"
      },
      "outputs": [
        {
          "output_type": "stream",
          "name": "stdout",
          "text": [
            "Theta0 : [1.04138149]\n",
            "Theta1 : [1.3283251]\n",
            "Theta2 : [-0.07872197]\n",
            "cost initiale : 6015548808460000.0 ,  cost finale : 3.0730014933126294e-27\n"
          ]
        }
      ],
      "source": [
        "theta = np.zeros((3, 1))\n",
        "def gradientDescent_multi(X, y, theta, alpha, iterations):\n",
        "  m = len(y)\n",
        "  t = np.copy(theta)\n",
        "\n",
        "  for i in range(iterations):\n",
        "    y_pred = np.transpose(np.matmul(X,t))\n",
        "    t[0] = t[0] - (alpha * ((1/m) * np.sum(y_pred - y)))\n",
        "    t[1] = t[1] - (alpha * ((1/m) * np.sum((y_pred - y) * X[:,1])))\n",
        "    t[2] = t[2] - (alpha * ((1/m) * np.sum((y_pred - y) * X[:,2])))\n",
        "  return t\n",
        "\n",
        "t = gradientDescent_multi(X_scaled_normalized, y_scaled_normalized, theta, 0.01, 3000)\n",
        "print(\"Theta0 : {0}\".format(t[0]))\n",
        "print(\"Theta1 : {0}\".format(t[1]))\n",
        "print(\"Theta2 : {0}\".format(t[2]))\n",
        "\n",
        "err = computeCost(X_scaled_normalized, y_scaled_normalized,theta)\n",
        "print(\"cost initiale : {0} ,  cost finale : {1}\".format(initialCost,err))"
      ]
    },
    {
      "cell_type": "markdown",
      "metadata": {
        "id": "1Tamm2HkduBR"
      },
      "source": [
        "Comparer la descente du gradient avec et sans normalisation\n",
        "- **Exemple**: voir la difference dans le temps de calcul"
      ]
    },
    {
      "cell_type": "code",
      "execution_count": null,
      "metadata": {
        "colab": {
          "base_uri": "https://localhost:8080/"
        },
        "id": "i6MYtnbIduBR",
        "outputId": "82f6f2fe-88d6-456b-d43e-84afe03e80e8"
      },
      "outputs": [
        {
          "output_type": "stream",
          "name": "stdout",
          "text": [
            "2237242414961.8154\n"
          ]
        }
      ],
      "source": [
        "theta = np.zeros((3, 1))\n",
        "theta = gradientDescent_multi(X, y, theta, 0.0000001, 7000000)\n",
        "err = computeCost(X, y,theta)\n",
        "print(err) #err = 2237242414961.8154 en 4m31s"
      ]
    },
    {
      "cell_type": "markdown",
      "metadata": {
        "id": "xID7_9hbduBR"
      },
      "source": [
        "# Renforcement d'apprentissage\n",
        "Mettre ici toute idée qui pourrait renforcer votre apprentissage"
      ]
    },
    {
      "cell_type": "code",
      "execution_count": null,
      "metadata": {
        "id": "e8hqUv8UduBS"
      },
      "outputs": [],
      "source": []
    },
    {
      "cell_type": "markdown",
      "metadata": {
        "id": "TpuP_PZ1duBS"
      },
      "source": [
        "# Consignes"
      ]
    },
    {
      "cell_type": "markdown",
      "metadata": {
        "id": "4WVJKVhFduBS"
      },
      "source": [
        "Le travail est à remettre par groupe de 4 au maximum [1..4].\n",
        "\n",
        "Le délai est le vendredi 18 Mars 2022 à 22h\n"
      ]
    },
    {
      "cell_type": "code",
      "execution_count": null,
      "metadata": {
        "id": "fYbOlDZKduBT"
      },
      "outputs": [],
      "source": [
        "# bonne chance"
      ]
    }
  ],
  "metadata": {
    "kernelspec": {
      "display_name": "Python 3",
      "language": "python",
      "name": "python3"
    },
    "language_info": {
      "codemirror_mode": {
        "name": "ipython",
        "version": 3
      },
      "file_extension": ".py",
      "mimetype": "text/x-python",
      "name": "python",
      "nbconvert_exporter": "python",
      "pygments_lexer": "ipython3",
      "version": "3.7.3"
    },
    "colab": {
      "provenance": [],
      "collapsed_sections": [
        "bT4srwvYduAk"
      ],
      "include_colab_link": true
    }
  },
  "nbformat": 4,
  "nbformat_minor": 0
}