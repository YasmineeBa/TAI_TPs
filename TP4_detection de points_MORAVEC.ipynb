{
  "cells": [
    {
      "cell_type": "markdown",
      "metadata": {
        "id": "view-in-github",
        "colab_type": "text"
      },
      "source": [
        "<a href=\"https://colab.research.google.com/github/YasmineeBa/TAI_TPs/blob/main/TP4_detection%20de%20points_MORAVEC.ipynb\" target=\"_parent\"><img src=\"https://colab.research.google.com/assets/colab-badge.svg\" alt=\"Open In Colab\"/></a>"
      ]
    },
    {
      "cell_type": "code",
      "execution_count": null,
      "metadata": {
        "id": "J801qLBe-zyu"
      },
      "outputs": [],
      "source": [
        "import numpy as np\n",
        "import cv2 as cv\n",
        "import matplotlib.pyplot as plt\n",
        "from numpy import linalg as LA\n",
        "from collections import deque\n",
        "from math import exp"
      ]
    },
    {
      "cell_type": "code",
      "execution_count": null,
      "metadata": {
        "id": "MIRV_sXt-6vt"
      },
      "outputs": [],
      "source": [
        "#lecture de l'image\n",
        "image =cv.imread('/content/drive/MyDrive/colab Notebooks/image2.png',0)"
      ]
    },
    {
      "cell_type": "code",
      "source": [
        "image.shape"
      ],
      "metadata": {
        "colab": {
          "base_uri": "https://localhost:8080/"
        },
        "id": "nWNjgDeFmSzy",
        "outputId": "df46d9a9-9d0f-498e-e3b5-44c45f0124e4"
      },
      "execution_count": null,
      "outputs": [
        {
          "output_type": "execute_result",
          "data": {
            "text/plain": [
              "(320, 452)"
            ]
          },
          "metadata": {},
          "execution_count": 27
        }
      ]
    },
    {
      "cell_type": "markdown",
      "metadata": {
        "id": "v8caS9aBCVdG"
      },
      "source": [
        "Detection de points avec le detecteur MORAVEC\n",
        "Définition de paramètres\n"
      ]
    },
    {
      "cell_type": "code",
      "execution_count": null,
      "metadata": {
        "colab": {
          "base_uri": "https://localhost:8080/"
        },
        "id": "zWN7dYUpCXgu",
        "outputId": "839d68cf-3813-4f2e-928d-47666d8777f8"
      },
      "outputs": [
        {
          "output_type": "stream",
          "name": "stdout",
          "text": [
            "1 0\n",
            "1 1\n",
            "0 1\n",
            "-1 1\n",
            "-1 0\n",
            "-1 -1\n",
            "0 -1\n",
            "1 -1\n",
            "[[1, 0], [1, 1], [0, 1], [-1, 1], [-1, 0], [-1, -1], [0, -1], [1, -1]]\n"
          ]
        }
      ],
      "source": [
        "# paramétres de MORAVEC\n",
        "S= 2  # Seuil\n",
        "F= 3  # Taille de la fenêtre\n",
        "U= [[1,0],[1,1],[0,1],[-1,1],[-1,0],[-1,-1],[0,-1],[1,-1]]# Déplacements\n",
        "FN=[[-1,-1],[-1,0],[-1,1],[0,-1],[0,0],[0,1],[1,-1],[1,0],[1,1]] #a et b de la fenêtre\n",
        "\n",
        "for i in U:\n",
        "  x,y=i\n",
        "  print(x,y)\n",
        "\n",
        "print(U)"
      ]
    },
    {
      "cell_type": "markdown",
      "metadata": {
        "id": "-rFZDdP3CeA-"
      },
      "source": [
        "Calcul de la carte de coins (cornerness map)"
      ]
    },
    {
      "cell_type": "markdown",
      "metadata": {
        "id": "Tr6yDtNxICh3"
      },
      "source": []
    },
    {
      "cell_type": "code",
      "execution_count": null,
      "metadata": {
        "id": "cESXxtK6CawH"
      },
      "outputs": [],
      "source": [
        "def v(i,j,U,FN,image):\n",
        "  nu=0\n",
        "  V = np.zeros(8)\n",
        "  for Udep in U:\n",
        "    u1,v1=Udep\n",
        "    #print(\"U = \",u1,\" V = \",v1)\n",
        "    var=0\n",
        "    for FNdep in FN:\n",
        "      a1,b1=FNdep\n",
        "      #print(\"a = \",a1,\" b = \",b1)\n",
        "      #print(i+u1+b1)\n",
        "      x1=i+u1+a1\n",
        "      y1=j+v1+b1\n",
        "      x2=i+a1\n",
        "      y2=j+b1\n",
        "      var=var+( image[x1][y1] - image[x2][y2] )**2\n",
        "      #print(var)\n",
        "\n",
        "    V[nu]=var\n",
        "    nu=nu+1\n",
        "\n",
        "  return np.min(V)\n"
      ]
    },
    {
      "cell_type": "markdown",
      "metadata": {
        "id": "NR3xgDN5GGek"
      },
      "source": [
        "La catre des coins"
      ]
    },
    {
      "cell_type": "code",
      "execution_count": null,
      "metadata": {
        "id": "rjh55XiBGGMn"
      },
      "outputs": [],
      "source": [
        "def CarteDesCoins(image):\n",
        "  C = np.zeros_like(image)\n",
        "  for i in range(2,C.shape[0]-2):\n",
        "    for j in range(2,C.shape[1]-2):\n",
        "      C[i, j] = v(i,j,U,FN,image)\n",
        "  return C"
      ]
    },
    {
      "cell_type": "markdown",
      "metadata": {
        "id": "_RtYSYk3GYFQ"
      },
      "source": [
        "Le detecteur de MORAVE\n",
        "\n"
      ]
    },
    {
      "cell_type": "code",
      "execution_count": null,
      "metadata": {
        "id": "X7gYCuPgbsct"
      },
      "outputs": [],
      "source": [
        "def MoravecAlgorithm(image,seuil, U,FN):\n",
        "  Moravec_image = np.zeros_like(image)\n",
        "  Cmin = np.zeros_like(image)\n",
        "  Cmin  = CarteDesCoins(image)\n",
        "  for i in range(0,image.shape[0]):\n",
        "    for j in range(0,image.shape[1]):\n",
        "      if Cmin[i,j] >=seuil:\n",
        "        Moravec_image[i,j] = 1\n",
        "  return Moravec_image"
      ]
    },
    {
      "cell_type": "code",
      "execution_count": null,
      "metadata": {
        "id": "pCQGjIDZ199J"
      },
      "outputs": [],
      "source": [
        "#image_moravec = MoravecAlgorithm(image,S,U,FN)\n",
        "#plt.imshow(image_moravec, cmap=\"gray\")"
      ]
    },
    {
      "cell_type": "markdown",
      "metadata": {
        "id": "Pq6bxpzfLHHs"
      },
      "source": [
        "# Descripteurs Harris\n",
        "D'abord calculer les valeurs et vecteurs propres comme vu en TD, puis appliquer l'agorithme de Harris"
      ]
    },
    {
      "cell_type": "code",
      "execution_count": null,
      "metadata": {
        "id": "UK5wAlgCLJAN"
      },
      "outputs": [],
      "source": [
        "A= [[-1,2,0],\n",
        "    [0,3,4],\n",
        "    [0,0,7]]\n",
        "B=[[-1,2,2],\n",
        "   [2,2,-1],\n",
        "   [1,-2,1]]\n",
        "val1, vec1 = LA.eig(A)\n",
        "val2, vec2 = LA.eig(B)"
      ]
    },
    {
      "cell_type": "code",
      "execution_count": null,
      "metadata": {
        "colab": {
          "base_uri": "https://localhost:8080/"
        },
        "id": "zari64_FNfmm",
        "outputId": "b366020d-fa4f-4397-b420-50a7021472a7"
      },
      "outputs": [
        {
          "output_type": "stream",
          "name": "stdout",
          "text": [
            "[-1.  3.  7.] \n",
            " [[1.         0.4472136  0.17407766]\n",
            " [0.         0.89442719 0.69631062]\n",
            " [0.         0.         0.69631062]] \n",
            " [-3.  2.  3.]\n",
            "3.0\n"
          ]
        }
      ],
      "source": [
        "print(val1,'\\n', vec1,'\\n',val2)\n",
        "print(val1[1])"
      ]
    },
    {
      "cell_type": "markdown",
      "metadata": {
        "id": "H3L4Dem0NjX6"
      },
      "source": [
        "Expliquer le résultat obtenu, et comparer avec le TD;  \n",
        "Pourquoi les résultats sont-ils différents?"
      ]
    },
    {
      "cell_type": "markdown",
      "metadata": {
        "id": "4LTl1xJ2NohB"
      },
      "source": [
        "# Reponse:\n",
        "les résultats sont différents par ce que:\n",
        "- la fonction LA.eig() de python retourn des valeurs réels.\n",
        "- dans le td on a le t qui apparitent a R, mais ici le t est remplacé mais les \"ratios\" sont identiques."
      ]
    },
    {
      "cell_type": "code",
      "source": [
        "def padding (image,value,reference_shape):\n",
        "  return np.pad(image, reference_shape, mode='constant',constant_values=value)\n",
        "def gradient_X(image):\n",
        "  image_pad = padding(image, 0, [0,1]) # ajouter le pading à l'image (img)\n",
        "  image_gradientX = np.zeros(image.shape)\n",
        "\n",
        "  for i in range(image_pad.shape[0] - 1):\n",
        "   for j in range (image_pad.shape[1] - 1):\n",
        "     image_gradientX[i][j] = int(image_pad[i+1,j]) - int(image_pad[i][j])\n",
        "  return image_gradientX\n",
        "\n",
        "def gradient_Y(image):\n",
        "  image_pad = padding(image, 0, [0,1])\n",
        "  image_gradientY = np.zeros(image.shape)\n",
        "\n",
        "  for i in range(image_pad.shape[0] - 1 ):\n",
        "    for j in range(image_pad.shape[1] -1):\n",
        "      image_gradientY[i][j] = int(image_pad[i, j+1])-int(image_pad[i][j])\n",
        "  return image_gradientY\n",
        "Ix = gradient_X(image)\n",
        "Iy = gradient_Y(image)\n",
        "plt.figure()\n",
        "f, axarr = plt.subplots(1,2)\n",
        "axarr[0].imshow(Ix, cmap=\"gray\")\n",
        "axarr[0].set_title(\"Gadiant X\")\n",
        "axarr[1].imshow(Iy, cmap=\"gray\")\n",
        "axarr[1].set_title(\"Gadiant Y\")\n",
        "\n"
      ],
      "metadata": {
        "colab": {
          "base_uri": "https://localhost:8080/",
          "height": 208
        },
        "id": "fN8YpG7jxx9M",
        "outputId": "1255ec15-51ff-49a4-ebcf-df885b30eb9d"
      },
      "execution_count": null,
      "outputs": [
        {
          "output_type": "execute_result",
          "data": {
            "text/plain": [
              "Text(0.5, 1.0, 'Gadiant Y')"
            ]
          },
          "metadata": {},
          "execution_count": 35
        },
        {
          "output_type": "display_data",
          "data": {
            "text/plain": [
              "<Figure size 432x288 with 0 Axes>"
            ]
          },
          "metadata": {}
        },
        {
          "output_type": "display_data",
          "data": {
            "image/png": "[encoded data removed]",
            "text/plain": [
              "<Figure size 432x288 with 2 Axes>"
            ]
          },
          "metadata": {
            "needs_background": "light"
          }
        }
      ]
    },
    {
      "cell_type": "code",
      "source": [
        "def harris(image ,F, S , sig):\n",
        "  Harris_image = np.zeros_like(image)\n",
        "  Gx = gradient_X(image)\n",
        "  Gy = gradient_Y(image)\n",
        "  Gxx = Gx * Gx\n",
        "  Gyy = Gy * Gy\n",
        "  Gyx = Gy * Gx\n",
        "\n",
        "  #application du filtre gaussien\n",
        "  G_Gxx = cv.GaussianBlur(Gxx,(F,F),sig)\n",
        "  G_Gyy = cv.GaussianBlur(Gyy,(F,F),sig)\n",
        "  G_Gyx = cv.GaussianBlur(Gyx,(F,F),sig)\n",
        "\n",
        "  alpha=0.06\n",
        "  # determinant\n",
        "  detA = G_Gxx * G_Gyy - G_Gyx ** 2\n",
        "  # trace\n",
        "  traceA = G_Gxx + G_Gyy\n",
        "  # calcul de R\n",
        "  R = detA - alpha * traceA ** 2\n",
        "\n",
        "\n",
        "  Harris_image = np.zeros_like(image)\n",
        "  for i, rep in enumerate(R):\n",
        "    for j, r in enumerate(rep):\n",
        "      #si r > seuil alors le point est un coin\n",
        "        if r > S:\n",
        "\n",
        "            Harris_image[i, j] = 1\n",
        "\n",
        "\n",
        "  #plt.imshow(Harris_image,cmap='gray')\n",
        "  return Harris_image\n"
      ],
      "metadata": {
        "id": "PAzDEqxrUjVo"
      },
      "execution_count": null,
      "outputs": []
    },
    {
      "cell_type": "code",
      "source": [
        "h=harris(image ,3, 2 , 10)\n"
      ],
      "metadata": {
        "id": "9TvdZQmjWSLg"
      },
      "execution_count": null,
      "outputs": []
    },
    {
      "cell_type": "code",
      "source": [
        "img=image.copy()\n",
        "# Detecter les points avec Harris\n",
        "\n",
        "# Dilater l'image pour mieux visualiser les points de coins\n",
        "dst = cv.dilate(h,None)\n",
        "# Créer une image RVB\n",
        "img2=np.zeros((img.shape[0],img.shape[1],3))\n",
        "img2[:,:,0]=img\n",
        "img2[:,:,1]=img\n",
        "img2[:,:,2]=img\n",
        "# Dessiner les points sur l'image RVB\n",
        "img2[dst>0.01*dst.max()]=[0,0,255]\n",
        "plt.imshow(img2)"
      ],
      "metadata": {
        "colab": {
          "base_uri": "https://localhost:8080/",
          "height": 305
        },
        "id": "FqL35EaVlnEo",
        "outputId": "e8f0f618-2a46-4ebc-f85d-6f63c2e46f0c"
      },
      "execution_count": null,
      "outputs": [
        {
          "output_type": "stream",
          "name": "stderr",
          "text": [
            "Clipping input data to the valid range for imshow with RGB data ([0..1] for floats or [0..255] for integers).\n"
          ]
        },
        {
          "output_type": "execute_result",
          "data": {
            "text/plain": [
              "<matplotlib.image.AxesImage at 0x7efceef2c810>"
            ]
          },
          "metadata": {},
          "execution_count": 38
        },
        {
          "output_type": "display_data",
          "data": {
            "image/png": "[encoded data removed]",
            "text/plain": [
              "<Figure size 432x288 with 1 Axes>"
            ]
          },
          "metadata": {
            "needs_background": "light"
          }
        }
      ]
    },
    {
      "cell_type": "markdown",
      "source": [
        "comparer avec opencv"
      ],
      "metadata": {
        "id": "xQQ36lbgo1CL"
      }
    },
    {
      "cell_type": "code",
      "source": [
        "img1=image.copy()\n",
        "# Detecter les points avec Harris\n",
        "dst = cv.cornerHarris(img1,2,3,0.04)\n",
        "# Dilater l'image pour mieux visualiser les points de coins\n",
        "dst = cv.dilate(dst,None)\n",
        "# Créer une image RVB\n",
        "img2_=np.zeros((img1.shape[0],img1.shape[1],3))\n",
        "img2_[:,:,0]=img1\n",
        "img2_[:,:,1]=img1\n",
        "img2_[:,:,2]=img1\n",
        "# Dessiner les points sur l'image RVB\n",
        "img2_[dst>0.01*dst.max()]=[0,0,255]\n",
        "plt.imshow(img2_)"
      ],
      "metadata": {
        "colab": {
          "base_uri": "https://localhost:8080/",
          "height": 305
        },
        "id": "74u_PnpvnlAB",
        "outputId": "7ba9dc16-1ca3-4174-83f3-d8c9b6c9fd65"
      },
      "execution_count": null,
      "outputs": [
        {
          "output_type": "stream",
          "name": "stderr",
          "text": [
            "Clipping input data to the valid range for imshow with RGB data ([0..1] for floats or [0..255] for integers).\n"
          ]
        },
        {
          "output_type": "execute_result",
          "data": {
            "text/plain": [
              "<matplotlib.image.AxesImage at 0x7efceecc7250>"
            ]
          },
          "metadata": {},
          "execution_count": 41
        },
        {
          "output_type": "display_data",
          "data": {
            "image/png": "[encoded data removed]",
            "text/plain": [
              "<Figure size 432x288 with 1 Axes>"
            ]
          },
          "metadata": {
            "needs_background": "light"
          }
        }
      ]
    },
    {
      "cell_type": "code",
      "source": [
        "f, axarr = plt.subplots(1,2)\n",
        "axarr[0].imshow(img2, cmap='gray')\n",
        "axarr[0].set_title(\"Harris corner ditector \")\n",
        "axarr[1].imshow(img2_, cmap='gray')\n",
        "axarr[1].set_title('Harris corner ditector with OpenCV')"
      ],
      "metadata": {
        "colab": {
          "base_uri": "https://localhost:8080/",
          "height": 227
        },
        "id": "z9SCmcE1ovfQ",
        "outputId": "ffd4d067-6412-4bb4-9233-41b8b9238c20"
      },
      "execution_count": null,
      "outputs": [
        {
          "output_type": "stream",
          "name": "stderr",
          "text": [
            "Clipping input data to the valid range for imshow with RGB data ([0..1] for floats or [0..255] for integers).\n",
            "Clipping input data to the valid range for imshow with RGB data ([0..1] for floats or [0..255] for integers).\n"
          ]
        },
        {
          "output_type": "execute_result",
          "data": {
            "text/plain": [
              "Text(0.5, 1.0, 'Harris corner ditector with OpenCV')"
            ]
          },
          "metadata": {},
          "execution_count": 42
        },
        {
          "output_type": "display_data",
          "data": {
            "image/png": "[encoded data removed]",
            "text/plain": [
              "<Figure size 432x288 with 2 Axes>"
            ]
          },
          "metadata": {
            "needs_background": "light"
          }
        }
      ]
    }
  ],
  "metadata": {
    "colab": {
      "provenance": [],
      "include_colab_link": true
    },
    "kernelspec": {
      "display_name": "Python 3",
      "name": "python3"
    },
    "language_info": {
      "name": "python"
    }
  },
  "nbformat": 4,
  "nbformat_minor": 0
}